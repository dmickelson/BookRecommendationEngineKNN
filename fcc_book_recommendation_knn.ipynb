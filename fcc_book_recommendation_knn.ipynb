{
  "cells": [
    {
      "cell_type": "code",
      "execution_count": 1,
      "metadata": {
        "id": "Y1onB6kUvo4Z"
      },
      "outputs": [],
      "source": [
        "# import libraries (you may add additional imports but you may not have to)\n",
        "import numpy as np\n",
        "import pandas as pd\n",
        "from scipy.sparse import csr_matrix\n",
        "from sklearn.neighbors import NearestNeighbors\n",
        "import matplotlib.pyplot as plt"
      ]
    },
    {
      "cell_type": "code",
      "execution_count": 2,
      "metadata": {
        "colab": {
          "base_uri": "https://localhost:8080/"
        },
        "id": "iAQGqqO_vo4d",
        "outputId": "d114a155-2e0c-4d70-f42e-b9e3b746b438"
      },
      "outputs": [
        {
          "name": "stdout",
          "output_type": "stream",
          "text": [
            "--2024-09-01 20:08:41--  https://cdn.freecodecamp.org/project-data/books/book-crossings.zip\n",
            "Resolving cdn.freecodecamp.org (cdn.freecodecamp.org)... 104.26.2.33, 104.26.3.33, 172.67.70.149, ...\n",
            "Connecting to cdn.freecodecamp.org (cdn.freecodecamp.org)|104.26.2.33|:443... connected.\n",
            "HTTP request sent, awaiting response... 200 OK\n",
            "Length: 26085508 (25M) [application/zip]\n",
            "Saving to: ‘book-crossings.zip’\n",
            "\n",
            "book-crossings.zip  100%[===================>]  24.88M  73.1MB/s    in 0.3s    \n",
            "\n",
            "2024-09-01 20:08:42 (73.1 MB/s) - ‘book-crossings.zip’ saved [26085508/26085508]\n",
            "\n",
            "Archive:  book-crossings.zip\n",
            "  inflating: BX-Book-Ratings.csv     \n",
            "  inflating: BX-Books.csv            \n",
            "  inflating: BX-Users.csv            \n"
          ]
        }
      ],
      "source": [
        "# get data files\n",
        "!wget https://cdn.freecodecamp.org/project-data/books/book-crossings.zip\n",
        "\n",
        "!unzip book-crossings.zip\n",
        "\n",
        "books_filename = 'BX-Books.csv'\n",
        "ratings_filename = 'BX-Book-Ratings.csv'"
      ]
    },
    {
      "cell_type": "code",
      "execution_count": 3,
      "metadata": {
        "id": "NClILWOiEd6Q"
      },
      "outputs": [],
      "source": [
        "# import csv data into dataframes\n",
        "df_books = pd.read_csv(\n",
        "    books_filename,\n",
        "    encoding = \"ISO-8859-1\",\n",
        "    sep=\";\",\n",
        "    header=0,\n",
        "    names=['isbn', 'title', 'author'],\n",
        "    usecols=['isbn', 'title', 'author'],\n",
        "    dtype={'isbn': 'str', 'title': 'str', 'author': 'str'})\n",
        "\n",
        "df_ratings = pd.read_csv(\n",
        "    ratings_filename,\n",
        "    encoding = \"ISO-8859-1\",\n",
        "    sep=\";\",\n",
        "    header=0,\n",
        "    names=['user', 'isbn', 'rating'],\n",
        "    usecols=['user', 'isbn', 'rating'],\n",
        "    dtype={'user': 'int32', 'isbn': 'str', 'rating': 'float32'})"
      ]
    },
    {
      "cell_type": "code",
      "execution_count": 4,
      "metadata": {
        "colab": {
          "base_uri": "https://localhost:8080/",
          "height": 206
        },
        "id": "xAcXjkCFCh0A",
        "outputId": "0893b8a9-717e-47b0-ff83-d6f08a9a6297"
      },
      "outputs": [
        {
          "data": {
            "application/vnd.google.colaboratory.intrinsic+json": {
              "type": "dataframe",
              "variable_name": "df_users"
            },
            "text/html": [
              "\n",
              "  <div id=\"df-e201582d-3126-44af-8bea-1ef7ea7ebdc1\" class=\"colab-df-container\">\n",
              "    <div>\n",
              "<style scoped>\n",
              "    .dataframe tbody tr th:only-of-type {\n",
              "        vertical-align: middle;\n",
              "    }\n",
              "\n",
              "    .dataframe tbody tr th {\n",
              "        vertical-align: top;\n",
              "    }\n",
              "\n",
              "    .dataframe thead th {\n",
              "        text-align: right;\n",
              "    }\n",
              "</style>\n",
              "<table border=\"1\" class=\"dataframe\">\n",
              "  <thead>\n",
              "    <tr style=\"text-align: right;\">\n",
              "      <th></th>\n",
              "      <th>user</th>\n",
              "      <th>location</th>\n",
              "      <th>age</th>\n",
              "    </tr>\n",
              "  </thead>\n",
              "  <tbody>\n",
              "    <tr>\n",
              "      <th>0</th>\n",
              "      <td>1</td>\n",
              "      <td>nyc, new york, usa</td>\n",
              "      <td>&lt;NA&gt;</td>\n",
              "    </tr>\n",
              "    <tr>\n",
              "      <th>1</th>\n",
              "      <td>2</td>\n",
              "      <td>stockton, california, usa</td>\n",
              "      <td>18</td>\n",
              "    </tr>\n",
              "    <tr>\n",
              "      <th>2</th>\n",
              "      <td>3</td>\n",
              "      <td>moscow, yukon territory, russia</td>\n",
              "      <td>&lt;NA&gt;</td>\n",
              "    </tr>\n",
              "    <tr>\n",
              "      <th>3</th>\n",
              "      <td>4</td>\n",
              "      <td>porto, v.n.gaia, portugal</td>\n",
              "      <td>17</td>\n",
              "    </tr>\n",
              "    <tr>\n",
              "      <th>4</th>\n",
              "      <td>5</td>\n",
              "      <td>farnborough, hants, united kingdom</td>\n",
              "      <td>&lt;NA&gt;</td>\n",
              "    </tr>\n",
              "  </tbody>\n",
              "</table>\n",
              "</div>\n",
              "    <div class=\"colab-df-buttons\">\n",
              "\n",
              "  <div class=\"colab-df-container\">\n",
              "    <button class=\"colab-df-convert\" onclick=\"convertToInteractive('df-e201582d-3126-44af-8bea-1ef7ea7ebdc1')\"\n",
              "            title=\"Convert this dataframe to an interactive table.\"\n",
              "            style=\"display:none;\">\n",
              "\n",
              "  <svg xmlns=\"http://www.w3.org/2000/svg\" height=\"24px\" viewBox=\"0 -960 960 960\">\n",
              "    <path d=\"M120-120v-720h720v720H120Zm60-500h600v-160H180v160Zm220 220h160v-160H400v160Zm0 220h160v-160H400v160ZM180-400h160v-160H180v160Zm440 0h160v-160H620v160ZM180-180h160v-160H180v160Zm440 0h160v-160H620v160Z\"/>\n",
              "  </svg>\n",
              "    </button>\n",
              "\n",
              "  <style>\n",
              "    .colab-df-container {\n",
              "      display:flex;\n",
              "      gap: 12px;\n",
              "    }\n",
              "\n",
              "    .colab-df-convert {\n",
              "      background-color: #E8F0FE;\n",
              "      border: none;\n",
              "      border-radius: 50%;\n",
              "      cursor: pointer;\n",
              "      display: none;\n",
              "      fill: #1967D2;\n",
              "      height: 32px;\n",
              "      padding: 0 0 0 0;\n",
              "      width: 32px;\n",
              "    }\n",
              "\n",
              "    .colab-df-convert:hover {\n",
              "      background-color: #E2EBFA;\n",
              "      box-shadow: 0px 1px 2px rgba(60, 64, 67, 0.3), 0px 1px 3px 1px rgba(60, 64, 67, 0.15);\n",
              "      fill: #174EA6;\n",
              "    }\n",
              "\n",
              "    .colab-df-buttons div {\n",
              "      margin-bottom: 4px;\n",
              "    }\n",
              "\n",
              "    [theme=dark] .colab-df-convert {\n",
              "      background-color: #3B4455;\n",
              "      fill: #D2E3FC;\n",
              "    }\n",
              "\n",
              "    [theme=dark] .colab-df-convert:hover {\n",
              "      background-color: #434B5C;\n",
              "      box-shadow: 0px 1px 3px 1px rgba(0, 0, 0, 0.15);\n",
              "      filter: drop-shadow(0px 1px 2px rgba(0, 0, 0, 0.3));\n",
              "      fill: #FFFFFF;\n",
              "    }\n",
              "  </style>\n",
              "\n",
              "    <script>\n",
              "      const buttonEl =\n",
              "        document.querySelector('#df-e201582d-3126-44af-8bea-1ef7ea7ebdc1 button.colab-df-convert');\n",
              "      buttonEl.style.display =\n",
              "        google.colab.kernel.accessAllowed ? 'block' : 'none';\n",
              "\n",
              "      async function convertToInteractive(key) {\n",
              "        const element = document.querySelector('#df-e201582d-3126-44af-8bea-1ef7ea7ebdc1');\n",
              "        const dataTable =\n",
              "          await google.colab.kernel.invokeFunction('convertToInteractive',\n",
              "                                                    [key], {});\n",
              "        if (!dataTable) return;\n",
              "\n",
              "        const docLinkHtml = 'Like what you see? Visit the ' +\n",
              "          '<a target=\"_blank\" href=https://colab.research.google.com/notebooks/data_table.ipynb>data table notebook</a>'\n",
              "          + ' to learn more about interactive tables.';\n",
              "        element.innerHTML = '';\n",
              "        dataTable['output_type'] = 'display_data';\n",
              "        await google.colab.output.renderOutput(dataTable, element);\n",
              "        const docLink = document.createElement('div');\n",
              "        docLink.innerHTML = docLinkHtml;\n",
              "        element.appendChild(docLink);\n",
              "      }\n",
              "    </script>\n",
              "  </div>\n",
              "\n",
              "\n",
              "<div id=\"df-95d017d4-2462-4fa7-baa4-895c9641996a\">\n",
              "  <button class=\"colab-df-quickchart\" onclick=\"quickchart('df-95d017d4-2462-4fa7-baa4-895c9641996a')\"\n",
              "            title=\"Suggest charts\"\n",
              "            style=\"display:none;\">\n",
              "\n",
              "<svg xmlns=\"http://www.w3.org/2000/svg\" height=\"24px\"viewBox=\"0 0 24 24\"\n",
              "     width=\"24px\">\n",
              "    <g>\n",
              "        <path d=\"M19 3H5c-1.1 0-2 .9-2 2v14c0 1.1.9 2 2 2h14c1.1 0 2-.9 2-2V5c0-1.1-.9-2-2-2zM9 17H7v-7h2v7zm4 0h-2V7h2v10zm4 0h-2v-4h2v4z\"/>\n",
              "    </g>\n",
              "</svg>\n",
              "  </button>\n",
              "\n",
              "<style>\n",
              "  .colab-df-quickchart {\n",
              "      --bg-color: #E8F0FE;\n",
              "      --fill-color: #1967D2;\n",
              "      --hover-bg-color: #E2EBFA;\n",
              "      --hover-fill-color: #174EA6;\n",
              "      --disabled-fill-color: #AAA;\n",
              "      --disabled-bg-color: #DDD;\n",
              "  }\n",
              "\n",
              "  [theme=dark] .colab-df-quickchart {\n",
              "      --bg-color: #3B4455;\n",
              "      --fill-color: #D2E3FC;\n",
              "      --hover-bg-color: #434B5C;\n",
              "      --hover-fill-color: #FFFFFF;\n",
              "      --disabled-bg-color: #3B4455;\n",
              "      --disabled-fill-color: #666;\n",
              "  }\n",
              "\n",
              "  .colab-df-quickchart {\n",
              "    background-color: var(--bg-color);\n",
              "    border: none;\n",
              "    border-radius: 50%;\n",
              "    cursor: pointer;\n",
              "    display: none;\n",
              "    fill: var(--fill-color);\n",
              "    height: 32px;\n",
              "    padding: 0;\n",
              "    width: 32px;\n",
              "  }\n",
              "\n",
              "  .colab-df-quickchart:hover {\n",
              "    background-color: var(--hover-bg-color);\n",
              "    box-shadow: 0 1px 2px rgba(60, 64, 67, 0.3), 0 1px 3px 1px rgba(60, 64, 67, 0.15);\n",
              "    fill: var(--button-hover-fill-color);\n",
              "  }\n",
              "\n",
              "  .colab-df-quickchart-complete:disabled,\n",
              "  .colab-df-quickchart-complete:disabled:hover {\n",
              "    background-color: var(--disabled-bg-color);\n",
              "    fill: var(--disabled-fill-color);\n",
              "    box-shadow: none;\n",
              "  }\n",
              "\n",
              "  .colab-df-spinner {\n",
              "    border: 2px solid var(--fill-color);\n",
              "    border-color: transparent;\n",
              "    border-bottom-color: var(--fill-color);\n",
              "    animation:\n",
              "      spin 1s steps(1) infinite;\n",
              "  }\n",
              "\n",
              "  @keyframes spin {\n",
              "    0% {\n",
              "      border-color: transparent;\n",
              "      border-bottom-color: var(--fill-color);\n",
              "      border-left-color: var(--fill-color);\n",
              "    }\n",
              "    20% {\n",
              "      border-color: transparent;\n",
              "      border-left-color: var(--fill-color);\n",
              "      border-top-color: var(--fill-color);\n",
              "    }\n",
              "    30% {\n",
              "      border-color: transparent;\n",
              "      border-left-color: var(--fill-color);\n",
              "      border-top-color: var(--fill-color);\n",
              "      border-right-color: var(--fill-color);\n",
              "    }\n",
              "    40% {\n",
              "      border-color: transparent;\n",
              "      border-right-color: var(--fill-color);\n",
              "      border-top-color: var(--fill-color);\n",
              "    }\n",
              "    60% {\n",
              "      border-color: transparent;\n",
              "      border-right-color: var(--fill-color);\n",
              "    }\n",
              "    80% {\n",
              "      border-color: transparent;\n",
              "      border-right-color: var(--fill-color);\n",
              "      border-bottom-color: var(--fill-color);\n",
              "    }\n",
              "    90% {\n",
              "      border-color: transparent;\n",
              "      border-bottom-color: var(--fill-color);\n",
              "    }\n",
              "  }\n",
              "</style>\n",
              "\n",
              "  <script>\n",
              "    async function quickchart(key) {\n",
              "      const quickchartButtonEl =\n",
              "        document.querySelector('#' + key + ' button');\n",
              "      quickchartButtonEl.disabled = true;  // To prevent multiple clicks.\n",
              "      quickchartButtonEl.classList.add('colab-df-spinner');\n",
              "      try {\n",
              "        const charts = await google.colab.kernel.invokeFunction(\n",
              "            'suggestCharts', [key], {});\n",
              "      } catch (error) {\n",
              "        console.error('Error during call to suggestCharts:', error);\n",
              "      }\n",
              "      quickchartButtonEl.classList.remove('colab-df-spinner');\n",
              "      quickchartButtonEl.classList.add('colab-df-quickchart-complete');\n",
              "    }\n",
              "    (() => {\n",
              "      let quickchartButtonEl =\n",
              "        document.querySelector('#df-95d017d4-2462-4fa7-baa4-895c9641996a button');\n",
              "      quickchartButtonEl.style.display =\n",
              "        google.colab.kernel.accessAllowed ? 'block' : 'none';\n",
              "    })();\n",
              "  </script>\n",
              "</div>\n",
              "\n",
              "    </div>\n",
              "  </div>\n"
            ],
            "text/plain": [
              "   user                            location   age\n",
              "0     1                  nyc, new york, usa  <NA>\n",
              "1     2           stockton, california, usa    18\n",
              "2     3     moscow, yukon territory, russia  <NA>\n",
              "3     4           porto, v.n.gaia, portugal    17\n",
              "4     5  farnborough, hants, united kingdom  <NA>"
            ]
          },
          "execution_count": 4,
          "metadata": {},
          "output_type": "execute_result"
        }
      ],
      "source": [
        "# add your code here - consider creating a new cell for each section of code\n",
        "df_books.head()\n",
        "\n",
        "df_users = pd.read_csv('BX-Users.csv',\n",
        "                        encoding=\"ISO-8859-1\",\n",
        "                        sep=';',\n",
        "                        header=0,\n",
        "                        names=['user', 'location', 'age'],\n",
        "                        usecols=['user', 'location', 'age'],\n",
        "                       dtype={'user': 'Int32', 'location': 'str', 'age': 'Int32'})\n",
        "df_users.head()"
      ]
    },
    {
      "cell_type": "code",
      "execution_count": 5,
      "metadata": {
        "colab": {
          "base_uri": "https://localhost:8080/"
        },
        "id": "HRaRoWImNRW4",
        "outputId": "5cc5e3fb-7407-4a18-b132-65d9e74d7fe1"
      },
      "outputs": [
        {
          "name": "stdout",
          "output_type": "stream",
          "text": [
            "     user        isbn  rating  \\\n",
            "0  276725  034545104X     0.0   \n",
            "1    2313  034545104X     5.0   \n",
            "2    2313  0812533550     9.0   \n",
            "3    2313  0679745580     8.0   \n",
            "4    2313  0060173289     9.0   \n",
            "\n",
            "                                              title            author  \\\n",
            "0                              Flesh Tones: A Novel        M. J. Rose   \n",
            "1                              Flesh Tones: A Novel        M. J. Rose   \n",
            "2     Ender's Game (Ender Wiggins Saga (Paperback))  Orson Scott Card   \n",
            "3             In Cold Blood (Vintage International)     TRUMAN CAPOTE   \n",
            "4  Divine Secrets of the Ya-Ya Sisterhood : A Novel     Rebecca Wells   \n",
            "\n",
            "                location   age  \n",
            "0      tyler, texas, usa  <NA>  \n",
            "1  cincinnati, ohio, usa    23  \n",
            "2  cincinnati, ohio, usa    23  \n",
            "3  cincinnati, ohio, usa    23  \n",
            "4  cincinnati, ohio, usa    23  \n",
            "Index(['user', 'isbn', 'rating', 'title', 'author', 'location', 'age'], dtype='object')\n"
          ]
        }
      ],
      "source": [
        "# Merge ratings with books\n",
        "df_merged = pd.merge(df_ratings, df_books, on='isbn')\n",
        "\n",
        "# Merge the result with users\n",
        "df_combined = pd.merge(df_merged, df_users, on='user')\n",
        "\n",
        "# Now df_combined contains all the information from books, ratings, and users\n",
        "print(df_combined.head())\n",
        "print(df_combined.columns)"
      ]
    },
    {
      "cell_type": "code",
      "execution_count": 6,
      "metadata": {
        "colab": {
          "base_uri": "https://localhost:8080/"
        },
        "id": "xCoFZkodNcPt",
        "outputId": "92ba8df3-3eb3-46c0-f4e9-d2b1e4bae453"
      },
      "outputs": [
        {
          "name": "stdout",
          "output_type": "stream",
          "text": [
            "Original shape: (1031175, 7)\n",
            "Filtered shape: (48358, 7)\n"
          ]
        }
      ],
      "source": [
        "# Count ratings for each user and book\n",
        "user_ratings_count = df_combined.groupby('user')['rating'].count()\n",
        "book_ratings_count = df_combined.groupby('isbn')['rating'].count()\n",
        "\n",
        "# Filter users with at least 200 ratings\n",
        "users_to_keep = user_ratings_count[user_ratings_count >= 200].index\n",
        "\n",
        "# Filter books with at least 100 ratings\n",
        "books_to_keep = book_ratings_count[book_ratings_count >= 100].index\n",
        "\n",
        "# Apply filters to the combined dataframe\n",
        "df_filtered = df_combined[\n",
        "    (df_combined['user'].isin(users_to_keep)) &\n",
        "    (df_combined['isbn'].isin(books_to_keep))\n",
        "]\n",
        "\n",
        "print(f\"Original shape: {df_combined.shape}\")\n",
        "print(f\"Filtered shape: {df_filtered.shape}\")"
      ]
    },
    {
      "cell_type": "code",
      "execution_count": 7,
      "metadata": {
        "colab": {
          "base_uri": "https://localhost:8080/"
        },
        "id": "6khosERONhFw",
        "outputId": "0ae2d4b1-39e6-440c-d224-a456cf74afb0"
      },
      "outputs": [
        {
          "name": "stdout",
          "output_type": "stream",
          "text": [
            "Pivot table shape: (812, 673)\n",
            "title  1984  1st to Die: A Novel  2nd Chance  4 Blondes  \\\n",
            "user                                                      \n",
            "254     9.0                  0.0         0.0        0.0   \n",
            "2276    0.0                  0.0        10.0        0.0   \n",
            "2766    0.0                  0.0         0.0        0.0   \n",
            "2977    0.0                  0.0         0.0        0.0   \n",
            "3363    0.0                  0.0         0.0        0.0   \n",
            "\n",
            "title  A Beautiful Mind: The Life of Mathematical Genius and Nobel Laureate John Nash  \\\n",
            "user                                                                                    \n",
            "254                                                  0.0                                \n",
            "2276                                                 0.0                                \n",
            "2766                                                 0.0                                \n",
            "2977                                                 0.0                                \n",
            "3363                                                 0.0                                \n",
            "\n",
            "title  A Bend in the Road  A Case of Need  \\\n",
            "user                                        \n",
            "254                   0.0             0.0   \n",
            "2276                  0.0             0.0   \n",
            "2766                  7.0             0.0   \n",
            "2977                  0.0             0.0   \n",
            "3363                  0.0             0.0   \n",
            "\n",
            "title  A Child Called \\It\\\": One Child's Courage to Survive\"  A Civil Action  \\\n",
            "user                                                                           \n",
            "254                                                  0.0                 0.0   \n",
            "2276                                                 0.0                 0.0   \n",
            "2766                                                 0.0                 0.0   \n",
            "2977                                                 0.0                 0.0   \n",
            "3363                                                 0.0                 0.0   \n",
            "\n",
            "title  A Confederacy of Dunces (Evergreen Book)  ...  \\\n",
            "user                                             ...   \n",
            "254                                         0.0  ...   \n",
            "2276                                        0.0  ...   \n",
            "2766                                        0.0  ...   \n",
            "2977                                        0.0  ...   \n",
            "3363                                        0.0  ...   \n",
            "\n",
            "title  Wicked: The Life and Times of the Wicked Witch of the West  Wifey  \\\n",
            "user                                                                       \n",
            "254                                                  0.0             0.0   \n",
            "2276                                                 0.0             0.0   \n",
            "2766                                                 0.0             0.0   \n",
            "2977                                                 0.0             0.0   \n",
            "3363                                                 0.0             0.0   \n",
            "\n",
            "title  Wild Animus  Winter Moon  Wish You Well  Without Remorse  \\\n",
            "user                                                              \n",
            "254            0.0          0.0            0.0              0.0   \n",
            "2276           0.0          0.0            0.0              0.0   \n",
            "2766           6.0          0.0            0.0              0.0   \n",
            "2977           0.0          0.0            0.0              0.0   \n",
            "3363           0.0          0.0            0.0              0.0   \n",
            "\n",
            "title  Year of Wonders  You Belong To Me  \\\n",
            "user                                       \n",
            "254                0.0               0.0   \n",
            "2276               0.0               0.0   \n",
            "2766               0.0               0.0   \n",
            "2977               7.0               0.0   \n",
            "3363               0.0               0.0   \n",
            "\n",
            "title  Zen and the Art of Motorcycle Maintenance: An Inquiry into Values  \\\n",
            "user                                                                       \n",
            "254                                                  0.0                   \n",
            "2276                                                 0.0                   \n",
            "2766                                                 0.0                   \n",
            "2977                                                 0.0                   \n",
            "3363                                                 0.0                   \n",
            "\n",
            "title  \\O\\\" Is for Outlaw\"  \n",
            "user                        \n",
            "254                    0.0  \n",
            "2276                   0.0  \n",
            "2766                   0.0  \n",
            "2977                   0.0  \n",
            "3363                   0.0  \n",
            "\n",
            "[5 rows x 673 columns]\n"
          ]
        }
      ],
      "source": [
        "# Create pivot table\n",
        "pivot_table = df_filtered.pivot_table(\n",
        "    index='user', columns='title', values='rating', fill_value=0)\n",
        "\n",
        "# Fill NaN values with 0\n",
        "pivot_table = pivot_table.fillna(0)\n",
        "\n",
        "print(f\"Pivot table shape: {pivot_table.shape}\")\n",
        "print(pivot_table.head())"
      ]
    },
    {
      "cell_type": "code",
      "execution_count": 8,
      "metadata": {
        "colab": {
          "base_uri": "https://localhost:8080/"
        },
        "id": "0ktxUhVpNl3z",
        "outputId": "fd71fe9b-73ea-4bd1-9761-d4d945563f75"
      },
      "outputs": [
        {
          "name": "stdout",
          "output_type": "stream",
          "text": [
            "Sparse matrix shape: (812, 673)\n",
            "Number of book titles: 673\n"
          ]
        }
      ],
      "source": [
        "# Convert pivot table to sparse matrix\n",
        "sparse_matrix = csr_matrix(pivot_table.values)\n",
        "\n",
        "# Get book titles (features)\n",
        "book_titles = pivot_table.columns\n",
        "\n",
        "print(f\"Sparse matrix shape: {sparse_matrix.shape}\")\n",
        "print(f\"Number of book titles: {len(book_titles)}\")"
      ]
    },
    {
      "cell_type": "code",
      "execution_count": 9,
      "metadata": {
        "colab": {
          "base_uri": "https://localhost:8080/"
        },
        "id": "sTS2dGjZNqNh",
        "outputId": "1c63b4d2-0fe1-4515-8f75-d8ac5a6960ce"
      },
      "outputs": [
        {
          "name": "stdout",
          "output_type": "stream",
          "text": [
            "NearestNeighbors model has been initialized and fitted.\n",
            "Sample book titles:\n",
            "Index(['1984', '1st to Die: A Novel', '2nd Chance', '4 Blondes',\n",
            "       'A Beautiful Mind: The Life of Mathematical Genius and Nobel Laureate John Nash'],\n",
            "      dtype='object', name='title')\n",
            "Pivot table shape: (812, 673)\n",
            "Sparse matrix shape: (812, 673)\n",
            "Number of book titles: 673\n"
          ]
        }
      ],
      "source": [
        "# Initialize the NearestNeighbors model\n",
        "model = NearestNeighbors(metric='cosine', algorithm='brute', n_neighbors=10)\n",
        "\n",
        "# Fit the model with the sparse matrix\n",
        "model.fit(sparse_matrix)\n",
        "\n",
        "print(\"NearestNeighbors model has been initialized and fitted.\")\n",
        "# Verify book titles\n",
        "print(\"Sample book titles:\")\n",
        "print(book_titles[:5])\n",
        "\n",
        "print(f\"Pivot table shape: {pivot_table.shape}\")\n",
        "print(f\"Sparse matrix shape: {sparse_matrix.shape}\")\n",
        "print(f\"Number of book titles: {len(book_titles)}\")"
      ]
    },
    {
      "cell_type": "code",
      "execution_count": 10,
      "metadata": {
        "id": "x-bb4l54NtL6"
      },
      "outputs": [],
      "source": [
        "# function to return recommended books - this will be tested\n",
        "def get_recommends(book=\"\"):\n",
        "    if book not in book_titles:\n",
        "        return f\"The book '{book}' is not in the dataset.\"\n",
        "\n",
        "    book_index = np.where(book_titles == book)[0][0]\n",
        "    distances, indices = model.kneighbors(\n",
        "        sparse_matrix[book_index].reshape(1, -1), n_neighbors=20)\n",
        "\n",
        "    recommended_books = []\n",
        "    for idx, dist in zip(indices[0][1:], distances[0][1:]):\n",
        "        if idx < len(book_titles):\n",
        "            recommended_books.append([book_titles[idx], float(dist)])\n",
        "        if len(recommended_books) == 5:\n",
        "            break\n",
        "\n",
        "    return [book, recommended_books]\n",
        "    # return recommended_books"
      ]
    },
    {
      "cell_type": "code",
      "execution_count": 11,
      "metadata": {
        "colab": {
          "base_uri": "https://localhost:8080/"
        },
        "id": "QYO8RrEJNxbd",
        "outputId": "f65827fb-0808-4fd3-971d-b228b256e8ba"
      },
      "outputs": [
        {
          "name": "stdout",
          "output_type": "stream",
          "text": [
            "['The Queen of the Damned (Vampire Chronicles (Paperback))', [['The Perks of Being a Wallflower', 1.0], ['The Phantom Tollbooth', 1.0], ['The Pillars of the Earth', 1.0], ['The Perfect Husband', 1.0], ['The Perfect Storm : A True Story of Men Against the Sea', 1.0]]]\n"
          ]
        }
      ],
      "source": [
        "# books = get_recommends(\"Where the Heart Is (Oprah's Book Club (Paperback))\")\n",
        "\n",
        "books = get_recommends(\n",
        "    \"The Queen of the Damned (Vampire Chronicles (Paperback))\")\n",
        "print(books)"
      ]
    },
    {
      "cell_type": "code",
      "execution_count": 12,
      "metadata": {
        "colab": {
          "base_uri": "https://localhost:8080/"
        },
        "id": "jd2SLCh8oxMh",
        "outputId": "86c96d6a-cde6-4a0a-c142-6601a8411b1d"
      },
      "outputs": [
        {
          "name": "stdout",
          "output_type": "stream",
          "text": [
            "[\"Where the Heart Is (Oprah's Book Club (Paperback))\", [['Misery', 0.6239112615585327], ['The Gunslinger (The Dark Tower, Book 1)', 0.645896315574646], ['Degree of Guilt', 0.6845024228096008], ['The Girl Who Loved Tom Gordon', 0.6918960809707642], ['Interview with the Vampire', 0.7340651154518127]]]\n",
            "You haven't passed yet. Keep trying!\n"
          ]
        }
      ],
      "source": [
        "books = get_recommends(\"Where the Heart Is (Oprah's Book Club (Paperback))\")\n",
        "print(books)\n",
        "\n",
        "def test_book_recommendation():\n",
        "  test_pass = True\n",
        "  recommends = get_recommends(\"Where the Heart Is (Oprah's Book Club (Paperback))\")\n",
        "  if recommends[0] != \"Where the Heart Is (Oprah's Book Club (Paperback))\":\n",
        "    test_pass = False\n",
        "  recommended_books = [\"I'll Be Seeing You\", 'The Weight of Water', 'The Surgeon', 'I Know This Much Is True']\n",
        "  recommended_books_dist = [0.8, 0.77, 0.77, 0.77]\n",
        "  for i in range(2):\n",
        "    if recommends[1][i][0] not in recommended_books:\n",
        "      test_pass = False\n",
        "    if abs(recommends[1][i][1] - recommended_books_dist[i]) >= 0.05:\n",
        "      test_pass = False\n",
        "  if test_pass:\n",
        "    print(\"You passed the challenge! 🎉🎉🎉🎉🎉\")\n",
        "  else:\n",
        "    print(\"You haven't passed yet. Keep trying!\")\n",
        "\n",
        "test_book_recommendation()"
      ]
    }
  ],
  "metadata": {
    "colab": {
      "provenance": []
    },
    "kernelspec": {
      "display_name": "Python 3",
      "language": "python",
      "name": "python3"
    },
    "language_info": {
      "codemirror_mode": {
        "name": "ipython",
        "version": 3
      },
      "file_extension": ".py",
      "mimetype": "text/x-python",
      "name": "python",
      "nbconvert_exporter": "python",
      "pygments_lexer": "ipython3",
      "version": "3.10.11"
    }
  },
  "nbformat": 4,
  "nbformat_minor": 0
}
